{
 "cells": [
  {
   "cell_type": "code",
   "execution_count": 10,
   "metadata": {
    "slideshow": {
     "slide_type": "skip"
    }
   },
   "outputs": [],
   "source": [
    "%matplotlib inline\n",
    "import matplotlib.pyplot as plt\n",
    "import numpy as np\n",
    "import scipy.optimize as opt\n",
    "\n",
    "def magic_f(xs):\n",
    "    return [-0.7*x**3 - 0.5*x**2 + 0.3*x + 0.9 for x in xs]"
   ]
  },
  {
   "cell_type": "markdown",
   "metadata": {
    "slideshow": {
     "slide_type": "slide"
    }
   },
   "source": [
    "# Applied Machine Learning\n",
    "\n",
    "### Sergey Lisitsyn"
   ]
  },
  {
   "cell_type": "markdown",
   "metadata": {
    "slideshow": {
     "slide_type": "slide"
    }
   },
   "source": [
    "# Scope\n",
    "\n",
    "- Essential machine learning methods\n",
    "- Structuring machine learning projects\n",
    "- Industrial/enterprise/... practices of ML"
   ]
  },
  {
   "cell_type": "markdown",
   "metadata": {
    "slideshow": {
     "slide_type": "slide"
    }
   },
   "source": [
    "# Out of scope\n",
    "\n",
    "- Other aspects of working with data\n",
    "- Classic statistical things\n",
    "- Advanced things like GANs (but overview)"
   ]
  },
  {
   "cell_type": "markdown",
   "metadata": {
    "slideshow": {
     "slide_type": "slide"
    }
   },
   "source": [
    "# Grading\n",
    "\n",
    "- 60% homeworks\n",
    "- 40% exam\n",
    "- Details to be clarified during the next weeks (sorry!)"
   ]
  },
  {
   "cell_type": "markdown",
   "metadata": {
    "slideshow": {
     "slide_type": "slide"
    }
   },
   "source": [
    "# Books to consider\n",
    "\n",
    "- [A Course in Machine Learning](http://ciml.info/) (Hal Daumé III) *gives you a great overview of ML*\n",
    "- [Elements of Statistical Learning](http://web.stanford.edu/~hastie/ElemStatLearn/) (Hastie et al) *serves as a reference book*\n",
    "- [Deep Learning](http://www.deeplearningbook.org) (Goodfellow et al) *gets you into deep learning*\n",
    "- [Probabilistic Programming and Bayesian Methods for Hackers](http://camdavidsonpilon.github.io/Probabilistic-Programming-and-Bayesian-Methods-for-Hackers/) *helps you to become bayesian*"
   ]
  },
  {
   "cell_type": "markdown",
   "metadata": {
    "slideshow": {
     "slide_type": "slide"
    }
   },
   "source": [
    "# MOOCs to consider\n",
    "\n",
    "- [Deep Learning](https://www.coursera.org/specializations/deep-learning), esp. *Structuring Machine Learning Projects*\n",
    "- [Data Science](https://www.coursera.org/specializations/jhu-data-science), esp. *Reproducible Science*\n",
    "- [Advanced Machine Learning](https://www.coursera.org/specializations/aml)"
   ]
  },
  {
   "cell_type": "markdown",
   "metadata": {
    "slideshow": {
     "slide_type": "slide"
    }
   },
   "source": [
    "# Programming in ML\n",
    "\n",
    "- You've got to code to be successful in ML\n",
    "- No platform user ever won a Kaggle\n",
    "- We will use Python and its powerful libraries"
   ]
  },
  {
   "cell_type": "markdown",
   "metadata": {
    "slideshow": {
     "slide_type": "slide"
    }
   },
   "source": [
    "# Why Python?\n",
    "\n",
    "- De-facto standard language of data science\n",
    "- Easy to learn and versatile\n",
    "- Used both in production systems and by researchers\n",
    "- A lot of libraries around\n",
    "- Easy to extend with native libraries"
   ]
  },
  {
   "cell_type": "markdown",
   "metadata": {
    "slideshow": {
     "slide_type": "slide"
    }
   },
   "source": [
    "# Libraries\n",
    "The best way to install libraries is to use **conda**\n",
    "\n",
    "In this course we're going to use sklearn (scikit-learn), XGBoost, Keras (a part of Tensorflow now), and a few more libraries"
   ]
  },
  {
   "cell_type": "code",
   "execution_count": 2,
   "metadata": {
    "slideshow": {
     "slide_type": "fragment"
    }
   },
   "outputs": [
    {
     "name": "stderr",
     "output_type": "stream",
     "text": [
      "Using TensorFlow backend.\n"
     ]
    }
   ],
   "source": [
    "import sklearn\n",
    "import xgboost\n",
    "import keras"
   ]
  },
  {
   "cell_type": "markdown",
   "metadata": {
    "slideshow": {
     "slide_type": "slide"
    }
   },
   "source": [
    "# Why not ..\n",
    "\n",
    "- **R?** Python is more versatile and has more important libraries\n",
    "- **Platforms?** They are good to sell and promote but seldom used by anyone\n",
    "- **Java/..?** Too verbose for data science"
   ]
  },
  {
   "cell_type": "markdown",
   "metadata": {
    "slideshow": {
     "slide_type": "slide"
    }
   },
   "source": [
    "# Machine learning\n",
    "\n",
    "- Studies ability to learn without being explicitly programmed\n",
    "- In ML, the task is usually to transform amounts of data (the past) into a prediction procedure (the future)\n",
    "- Such a task is much simpler than general AI\n",
    "- Yet it never gets solved"
   ]
  },
  {
   "cell_type": "markdown",
   "metadata": {
    "slideshow": {
     "slide_type": "slide"
    }
   },
   "source": [
    "# No free lunch\n",
    "\n",
    "- The *no free lunch* theorem basically states that across all possible problems, all the algorithms are equivalent\n",
    "- When working with images or audio, deep learning is the king. \n",
    "- When working with typical Excel-like data, decision tree boosting fits best\n",
    "\n",
    "*We have to know how to choose a proper method for your problem*"
   ]
  },
  {
   "cell_type": "markdown",
   "metadata": {
    "slideshow": {
     "slide_type": "slide"
    }
   },
   "source": [
    "# Formal definition\n",
    "\n",
    "- $X$ is a space of possible inputs (features, covariates, ...)\n",
    "- $Y$ is a space of possible outputs (labels, targets, ...)\n",
    "- There exists a function $f: X \\to Y$ that we don't ever get to know\n",
    "- We know *some past* (training examples) $(x_1, f(x_1)), (x_2, f(x_2)), ...$\n",
    "- We want to find $\\hat f$ quite similar to $f$"
   ]
  },
  {
   "cell_type": "code",
   "execution_count": 11,
   "metadata": {
    "slideshow": {
     "slide_type": "slide"
    }
   },
   "outputs": [
    {
     "data": {
      "image/png": "[encoded data removed]",
      "text/plain": [
       "<matplotlib.figure.Figure at 0x1a2aa96da0>"
      ]
     },
     "metadata": {},
     "output_type": "display_data"
    }
   ],
   "source": [
    "x = [0, 1, 2, 3, 4, 5]\n",
    "y = magic_f(x)\n",
    "plt.scatter(x, y);"
   ]
  },
  {
   "cell_type": "markdown",
   "metadata": {
    "slideshow": {
     "slide_type": "slide"
    }
   },
   "source": [
    "# Learning problems\n",
    "\n",
    "- Regression $Y = \\mathbb{R}$: predict housing prices\n",
    "- Classification (binary and multiclass) $Y = \\mathbb{N}$: predict email category\n",
    "- Ranking $Y = \\mathbb{R}$: rank search engine results\n",
    "\n",
    "*What we do first is try to cast our problem to one of the known learning problems.*"
   ]
  },
  {
   "cell_type": "markdown",
   "metadata": {
    "slideshow": {
     "slide_type": "slide"
    }
   },
   "source": [
    "# Loss function\n",
    "\n",
    "the (only) difference between learning problems\n",
    "\n",
    "Let's define a squared loss (what is the problem it fits?)"
   ]
  },
  {
   "cell_type": "code",
   "execution_count": 4,
   "metadata": {
    "slideshow": {
     "slide_type": "fragment"
    }
   },
   "outputs": [
    {
     "data": {
      "text/plain": [
       "10.5625"
      ]
     },
     "execution_count": 4,
     "metadata": {},
     "output_type": "execute_result"
    }
   ],
   "source": [
    "def loss(prediction, target):\n",
    "    return (prediction - target)**2\n",
    "\n",
    "loss(50, 53.25)"
   ]
  },
  {
   "cell_type": "markdown",
   "metadata": {
    "slideshow": {
     "slide_type": "slide"
    }
   },
   "source": [
    "# Empirical risk\n",
    "\n",
    "We know just a limited set of values of $f$ so we have to use them to compare $\\hat f$\n",
    "\n",
    "Empirical risk is average loss (error) on the given (training) data"
   ]
  },
  {
   "cell_type": "code",
   "execution_count": 14,
   "metadata": {},
   "outputs": [],
   "source": [
    "def empirical_risk(predictions, targets):\n",
    "    return np.mean((np.array(predictions) - np.array(targets))**2)"
   ]
  },
  {
   "cell_type": "markdown",
   "metadata": {
    "slideshow": {
     "slide_type": "slide"
    }
   },
   "source": [
    "# Prediction function\n",
    "\n",
    "the main difference between various algorithms\n",
    "\n",
    "We have to define $\\hat f$. It might be a decision tree, a linear function, a neural network... or, a polynomial:"
   ]
  },
  {
   "cell_type": "code",
   "execution_count": 23,
   "metadata": {},
   "outputs": [],
   "source": [
    "def predict(parameters, inputs):\n",
    "    a, b, c, d = parameters\n",
    "    x = inputs\n",
    "    return a*x**3 + b*x**2 + c*x + d"
   ]
  },
  {
   "cell_type": "markdown",
   "metadata": {
    "slideshow": {
     "slide_type": "slide"
    }
   },
   "source": [
    "# Parameters\n",
    "\n",
    "$\\hat f$ is a family of functions. To use it we have to find its **parameters**. \n",
    "\n",
    "Some parameters lead to high empirical risk, some do not."
   ]
  },
  {
   "cell_type": "markdown",
   "metadata": {
    "slideshow": {
     "slide_type": "slide"
    }
   },
   "source": [
    "# Optimization\n",
    "\n",
    "we can cast our problem to optimization. We minimize objective (empirical risk) that is a function of parameters.\n",
    "\n",
    "This way we find the best parameter setting."
   ]
  },
  {
   "cell_type": "code",
   "execution_count": 24,
   "metadata": {},
   "outputs": [
    {
     "name": "stdout",
     "output_type": "stream",
     "text": [
      "Optimization terminated successfully.\n",
      "         Current function value: 0.000000\n",
      "         Iterations: 361\n",
      "         Function evaluations: 608\n"
     ]
    }
   ],
   "source": [
    "objective = lambda parameters: empirical_risk([predict(parameters, x_i) for x_i in x], y)\n",
    "\n",
    "best_parameters = opt.fmin(objective, x0=[1,1,1,1])"
   ]
  },
  {
   "cell_type": "code",
   "execution_count": 22,
   "metadata": {
    "slideshow": {
     "slide_type": "slide"
    }
   },
   "outputs": [
    {
     "data": {
      "image/png": "[encoded data removed]",
      "text/plain": [
       "<matplotlib.figure.Figure at 0x1a2a5be240>"
      ]
     },
     "metadata": {},
     "output_type": "display_data"
    }
   ],
   "source": [
    "xs = np.arange(-1, 6, 0.1)\n",
    "ys = [predict(best_parameters, x_i) for x_i in xs]\n",
    "\n",
    "plt.scatter(x, y)\n",
    "plt.plot(xs, ys);"
   ]
  },
  {
   "cell_type": "markdown",
   "metadata": {
    "slideshow": {
     "slide_type": "slide"
    }
   },
   "source": [
    "# Sounds like approximation/interpolation?\n",
    "\n",
    "- The thing we just did could be done in 17th century\n",
    "- Totally different in high-dimensional spaces\n",
    "- $\\hat f$ can get seriously complex (like a neural network)"
   ]
  },
  {
   "cell_type": "markdown",
   "metadata": {
    "slideshow": {
     "slide_type": "slide"
    }
   },
   "source": [
    "# Recap\n",
    "\n",
    "- Identify the problem\n",
    "- Choose a classifier family\n",
    "- Optimize to find parameters (fit, train, ..)"
   ]
  },
  {
   "cell_type": "markdown",
   "metadata": {
    "slideshow": {
     "slide_type": "slide"
    }
   },
   "source": [
    "# Next classes\n",
    "\n",
    "- 25.01 Linear methods for classification and regression, handling sparse data\n",
    "- 3.03 Decision trees and ensembles"
   ]
  }
 ],
 "metadata": {
  "celltoolbar": "Slideshow",
  "kernelspec": {
   "display_name": "Python 3",
   "language": "python",
   "name": "python3"
  },
  "language_info": {
   "codemirror_mode": {
    "name": "ipython",
    "version": 3
   },
   "file_extension": ".py",
   "mimetype": "text/x-python",
   "name": "python",
   "nbconvert_exporter": "python",
   "pygments_lexer": "ipython3",
   "version": "3.6.4"
  }
 },
 "nbformat": 4,
 "nbformat_minor": 2
}
